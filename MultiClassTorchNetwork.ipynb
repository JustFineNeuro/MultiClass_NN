{
 "cells": [
  {
   "metadata": {},
   "cell_type": "markdown",
   "source": "# Notes: You will need a dataloader ",
   "id": "86daf984742e4085"
  },
  {
   "metadata": {},
   "cell_type": "code",
   "outputs": [],
   "execution_count": null,
   "source": [
    "import numpy as np\n",
    "import torch\n",
    "import torch.nn as nn\n",
    "import torch.optim as optim\n",
    "from torch.utils.data import Dataset, DataLoader\n",
    "from torchvision import transforms\n",
    "from sklearn.datasets import make_classification\n"
   ],
   "id": "de6f6b442a7bb9dc"
  },
  {
   "metadata": {},
   "cell_type": "code",
   "outputs": [],
   "execution_count": null,
   "source": [
    "# Create a custom dataset\n",
    "class DatasetCreator(Dataset):\n",
    "    ''' CAN APPLY CUSTOM TRansform to inputw'''\n",
    "    def __init__(self, data, labels, transform=None):\n",
    "        self.data = data\n",
    "        self.labels = labels\n",
    "        self.transform = transform\n",
    "\n",
    "    def __len__(self):\n",
    "        return len(self.data)\n",
    "\n",
    "    def __getitem__(self, idx):\n",
    "        sample = self.data[idx]\n",
    "        label = self.labels[idx]\n",
    "        if self.transform:\n",
    "            sample = self.transform(sample)  # Apply the transformation\n",
    "        return sample, label\n",
    "    "
   ],
   "id": "55c5a2a611d3203b"
  },
  {
   "metadata": {},
   "cell_type": "markdown",
   "source": "Use dataset with dataloader",
   "id": "a932449f72d3375a"
  },
  {
   "metadata": {},
   "cell_type": "code",
   "outputs": [],
   "execution_count": null,
   "source": [
    "\n",
    "# Example data from sklearn\n",
    "# Generate synthetic dataset\n",
    "X, y = make_classification(\n",
    "    n_samples=100000,  # Number of samples\n",
    "    n_features=20,     # Number of features\n",
    "    n_informative=15,  # Number of informative features\n",
    "    n_redundant=5,     # Number of redundant features\n",
    "    n_classes=5,       # Number of classes\n",
    "    random_state=42    # Reproducibility\n",
    ")\n",
    "\n",
    "\n",
    "# Instantiate the dataset\n",
    "dataset = DatasetCreator(torch.tensor(X,dtype=torch.float32), torch.tensor(y,dtype=torch.long))\n",
    "dataloader = DataLoader(dataset, batch_size=32, shuffle=True)\n",
    "\n",
    "## Add transformations if you want\n",
    "# transform = transforms.Normalize(mean=0.5, std=0.5)  # Example normalization\n",
    "# dataset = DatasetCreator(data, labels, transform=transform)\n",
    "# dataloader = DataLoader(dataset, batch_size=10, shuffle=True)\n"
   ],
   "id": "5db9675f76975e9d"
  },
  {
   "metadata": {},
   "cell_type": "markdown",
   "source": "Define a 1 layer network",
   "id": "c26b4b9dbcd549d7"
  },
  {
   "cell_type": "code",
   "execution_count": null,
   "id": "initial_id",
   "metadata": {
    "collapsed": true
   },
   "outputs": [],
   "source": [
    "class FFN(nn.Module):\n",
    "    '''\n",
    "    \n",
    "    :param input_size:\n",
    "    :param hidden_sizes:\n",
    "    :param output_size:\n",
    "    :param activation: set to None to use linear model\n",
    "    :param kwargs:\n",
    "    '''\n",
    "    def __init__(self,input_size, hidden_sizes, output_size,activation=torch.relu,**kwargs):\n",
    "        super().__init__()\n",
    "        self.input_size = input_size\n",
    "        self.hidden_sizes = hidden_sizes\n",
    "        self.output_size = output_size\n",
    "        self.activation = activation  # Store the activation function\n",
    "        self.fc1 = nn.Linear(self.input_size, self.hidden_sizes[0]) #input to hidden\n",
    "        self.fc2 = nn.Linear(self.hidden_sizes[0], self.output_size[0]) #hidden to output\n",
    "    def forward(self,x):\n",
    "        #forward pass\n",
    "        x = self.fc1(x)\n",
    "        if self.activation is not None:\n",
    "            x = self.activation(x)\n",
    "        x = self.fc2(x)\n",
    "        return x"
   ]
  },
  {
   "metadata": {},
   "cell_type": "markdown",
   "source": "Define hyperparameters",
   "id": "2a0933677e6408af"
  },
  {
   "metadata": {},
   "cell_type": "code",
   "outputs": [],
   "execution_count": null,
   "source": [
    "# Hyperparameters\n",
    "input_size = X.shape[1]    # Number of input features\n",
    "hidden_size = [20]   # Number of hidden units\n",
    "output_size = [np.unique(y).shape[0]] # Number of output features \n",
    "learning_rate = 0.001\n",
    "num_epochs = 100\n",
    "\n",
    "# Create the model\n",
    "model = FFN(input_size, hidden_size, output_size)\n",
    "\n",
    "# Loss and optimizer\n",
    "criterion = nn.CrossEntropyLoss() # Cross entropy  loss for classificaton\n",
    "optimizer = optim.Adam(model.parameters(), lr=learning_rate)\n"
   ],
   "id": "2a07c25ebeddbf1c"
  },
  {
   "metadata": {},
   "cell_type": "markdown",
   "source": "Loop some training",
   "id": "555c00d153c2c49b"
  },
  {
   "metadata": {},
   "cell_type": "code",
   "outputs": [],
   "execution_count": null,
   "source": [
    "# Training loop\n",
    "\n",
    "model.train()\n",
    "for epoch in range(num_epochs):\n",
    "    epoch_loss = 0\n",
    "    # Initialize counters for correct classifications\n",
    "    epoch_correct = 0\n",
    "    epoch_total = 0\n",
    "    # Mini-batch training\n",
    "    for batch_inputs, batch_labels in dataloader:\n",
    "        labels= (batch_labels).long().detach()   # shape: (batch_size,)\n",
    "\n",
    "        outputs = model(batch_inputs) # Add sequence dim\n",
    "        loss = criterion(outputs, batch_labels)\n",
    "            # Backward pass and optimization\n",
    "        optimizer.zero_grad()\n",
    "        loss.backward()\n",
    "        optimizer.step()\n",
    "        epoch_loss += loss.item()\n",
    "        predicted_class = torch.argmax(outputs, dim=1)\n",
    "        # Compare predictions with labels\n",
    "        correct = (predicted_class == labels).sum().item()\n",
    "        epoch_correct += correct\n",
    "        epoch_total += labels.size(0)\n",
    "        \n",
    "     # Compute average loss and accuracy for this epoch\n",
    "    avg_loss = epoch_loss / len(dataloader)  # or / params['training_trials'], your choice\n",
    "    accuracy = epoch_correct / epoch_total\n",
    "    \n",
    "    print( f\"epoch: {epoch/num_epochs:.4f}, \",\n",
    "          f\"Loss: {avg_loss:.4f}, \",\n",
    "           f\"Accuracy: {accuracy:.4f}\")\n",
    "    \n"
   ],
   "id": "ba8c1bf3ca0b8a0a"
  }
 ],
 "metadata": {
  "kernelspec": {
   "display_name": "Python 3",
   "language": "python",
   "name": "python3"
  },
  "language_info": {
   "codemirror_mode": {
    "name": "ipython",
    "version": 2
   },
   "file_extension": ".py",
   "mimetype": "text/x-python",
   "name": "python",
   "nbconvert_exporter": "python",
   "pygments_lexer": "ipython2",
   "version": "2.7.6"
  }
 },
 "nbformat": 4,
 "nbformat_minor": 5
}
